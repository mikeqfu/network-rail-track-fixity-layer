{
 "cells": [
  {
   "cell_type": "code",
   "execution_count": 1,
   "id": "8c527b1a-1560-4f28-84c8-720ea9b657f3",
   "metadata": {},
   "outputs": [],
   "source": [
    "%%capture\n",
    "%cd \"..\"\n",
    "%matplotlib widget"
   ]
  },
  {
   "cell_type": "markdown",
   "id": "f8789181",
   "metadata": {},
   "source": [
    "# Demo - Heatmaps for track movement (10-m average)"
   ]
  },
  {
   "cell_type": "code",
   "execution_count": 2,
   "id": "3abc9444",
   "metadata": {},
   "outputs": [],
   "source": [
    "%%capture\n",
    "\n",
    "from src.shaft import TrackMovement\n",
    "from src.utils import TrackFixityDB, fix_folium_float_image, display_folium_m\n",
    "from IPython.display import IFrame\n",
    "\n",
    "tm = TrackMovement(db_instance=TrackFixityDB())"
   ]
  },
  {
   "cell_type": "markdown",
   "id": "b0c302e1",
   "metadata": {},
   "source": [
    "---\n",
    "\n",
    "## Contents\n",
    "\n",
    "1\\. [In the up direction](#1_in_the_up_direction)<br>\n",
    "&emsp;1.1 [Top of the left rail](#1_1_top_of_the_left_rail)<br>\n",
    "&emsp;1.2 [Running edge of the left rail](#1_2_running_edge_of_the_left_rail)<br>\n",
    "&emsp;1.3 [Top of the rigth rail](#1_3_top_of_the_right_rail)<br>\n",
    "&emsp;1.4 [Running edge of the right rail](#1_4_running_edge_of_the_right_rail)<br>\n",
    "&emsp;1.5 [Centre](#1_5_centre)<br>\n",
    "\n",
    "2\\. [In the down direction](#2_in_the_down_direction)<br>\n",
    "&emsp;2.1 [Top of the left rail](#2_1_top_of_the_left_rail)<br>\n",
    "&emsp;2.2 [Running edge of the left rail](#2_2_running_edge_of_the_left_rail)<br>\n",
    "&emsp;2.3 [Top of the rigth rail](#2_3_top_of_the_right_rail)<br>\n",
    "&emsp;2.4 [Running edge of the right rail](#2_4_running_edge_of_the_right_rail)<br>\n",
    "&emsp;2.5 [Centre](#2_5_centre)<br>\n",
    "\n",
    "---"
   ]
  },
  {
   "cell_type": "markdown",
   "id": "29b2619c",
   "metadata": {},
   "source": [
    "## 1. In the up direction <a id='1_in_the_up_direction'></a>"
   ]
  },
  {
   "cell_type": "markdown",
   "id": "abc097ef",
   "metadata": {},
   "source": [
    "### 1.1 Top of the left rail <a id='1_1_top_of_the_left_rail'></a>"
   ]
  },
  {
   "cell_type": "code",
   "execution_count": 3,
   "id": "87c84605",
   "metadata": {},
   "outputs": [
    {
     "data": {
      "text/html": [
       "\n",
       "        <iframe\n",
       "            width=\"975\"\n",
       "            height=\"700\"\n",
       "            src=\"heatmaps\\up_left_top_10.html\"\n",
       "            frameborder=\"0\"\n",
       "            allowfullscreen\n",
       "            \n",
       "        ></iframe>\n",
       "        "
      ],
      "text/plain": [
       "<IPython.lib.display.IFrame at 0x2b313162e10>"
      ]
     },
     "execution_count": 3,
     "metadata": {},
     "output_type": "execute_result"
    }
   ],
   "source": [
    "direction = 'Up'\n",
    "element = 'Left Top'\n",
    "subsect_len = 10\n",
    "\n",
    "m = tm.view_heatmap(element, direction, subsect_len, scale=10 ** 3, open_html=False)\n",
    "IFrame(**display_folium_m(m, element, direction, subsect_len))"
   ]
  },
  {
   "cell_type": "markdown",
   "id": "d6122271",
   "metadata": {},
   "source": [
    "### 1.2 Running edge of the left rail <a id='1_2_running_edge_of_the_left_rail'></a>"
   ]
  },
  {
   "cell_type": "code",
   "execution_count": 4,
   "id": "2e6cfee3",
   "metadata": {},
   "outputs": [
    {
     "data": {
      "text/html": [
       "\n",
       "        <iframe\n",
       "            width=\"975\"\n",
       "            height=\"700\"\n",
       "            src=\"heatmaps\\up_left_running_edge_10.html\"\n",
       "            frameborder=\"0\"\n",
       "            allowfullscreen\n",
       "            \n",
       "        ></iframe>\n",
       "        "
      ],
      "text/plain": [
       "<IPython.lib.display.IFrame at 0x2b30e4d1c10>"
      ]
     },
     "execution_count": 4,
     "metadata": {},
     "output_type": "execute_result"
    }
   ],
   "source": [
    "direction = 'Up'\n",
    "element = 'Left Running Edge'\n",
    "subsect_len = 10\n",
    "\n",
    "m = tm.view_heatmap(element, direction, subsect_len, scale=10 ** 3, open_html=False)\n",
    "IFrame(**display_folium_m(m, element, direction, subsect_len))"
   ]
  },
  {
   "cell_type": "markdown",
   "id": "1599f00a",
   "metadata": {},
   "source": [
    "### 1.3 Top of the rigth rail <a id='1_3_top_of_the_right_rail'></a>"
   ]
  },
  {
   "cell_type": "code",
   "execution_count": 5,
   "id": "dd602c98",
   "metadata": {},
   "outputs": [
    {
     "data": {
      "text/html": [
       "\n",
       "        <iframe\n",
       "            width=\"975\"\n",
       "            height=\"700\"\n",
       "            src=\"heatmaps\\up_right_top_10.html\"\n",
       "            frameborder=\"0\"\n",
       "            allowfullscreen\n",
       "            \n",
       "        ></iframe>\n",
       "        "
      ],
      "text/plain": [
       "<IPython.lib.display.IFrame at 0x2b31357ae10>"
      ]
     },
     "execution_count": 5,
     "metadata": {},
     "output_type": "execute_result"
    }
   ],
   "source": [
    "direction = 'Up'\n",
    "element = 'Right Top'\n",
    "subsect_len = 10\n",
    "\n",
    "m = tm.view_heatmap(element, direction, subsect_len, scale=10 ** 3, open_html=False)\n",
    "IFrame(**display_folium_m(m, element, direction, subsect_len))"
   ]
  },
  {
   "cell_type": "markdown",
   "id": "c2e8a6ca",
   "metadata": {},
   "source": [
    "### 1.4 Running edge of the right rail <a id='1_4_running_edge_of_the_right_rail'></a>"
   ]
  },
  {
   "cell_type": "code",
   "execution_count": 6,
   "id": "cee3a508",
   "metadata": {},
   "outputs": [
    {
     "data": {
      "text/html": [
       "\n",
       "        <iframe\n",
       "            width=\"975\"\n",
       "            height=\"700\"\n",
       "            src=\"heatmaps\\up_right_running_edge_10.html\"\n",
       "            frameborder=\"0\"\n",
       "            allowfullscreen\n",
       "            \n",
       "        ></iframe>\n",
       "        "
      ],
      "text/plain": [
       "<IPython.lib.display.IFrame at 0x2b312021c10>"
      ]
     },
     "execution_count": 6,
     "metadata": {},
     "output_type": "execute_result"
    }
   ],
   "source": [
    "direction = 'Up'\n",
    "element = 'Right Running Edge'\n",
    "subsect_len = 10\n",
    "\n",
    "m = tm.view_heatmap(element, direction, subsect_len, scale=10 ** 3, open_html=False)\n",
    "IFrame(**display_folium_m(m, element, direction, subsect_len))"
   ]
  },
  {
   "cell_type": "markdown",
   "id": "4236dc6f",
   "metadata": {},
   "source": [
    "### 1.5 Centre <a id='1_5_centre'></a>"
   ]
  },
  {
   "cell_type": "code",
   "execution_count": 7,
   "id": "032d37d2",
   "metadata": {},
   "outputs": [
    {
     "data": {
      "text/html": [
       "\n",
       "        <iframe\n",
       "            width=\"975\"\n",
       "            height=\"700\"\n",
       "            src=\"heatmaps\\up_centre_10.html\"\n",
       "            frameborder=\"0\"\n",
       "            allowfullscreen\n",
       "            \n",
       "        ></iframe>\n",
       "        "
      ],
      "text/plain": [
       "<IPython.lib.display.IFrame at 0x2b312b9fc90>"
      ]
     },
     "execution_count": 7,
     "metadata": {},
     "output_type": "execute_result"
    }
   ],
   "source": [
    "direction = 'Up'\n",
    "element = 'Centre'\n",
    "subsect_len = 10\n",
    "\n",
    "m = tm.view_heatmap(element, direction, subsect_len, scale=10 ** 3, open_html=False)\n",
    "IFrame(**display_folium_m(m, element, direction, subsect_len))"
   ]
  },
  {
   "cell_type": "markdown",
   "id": "54ec25e1",
   "metadata": {},
   "source": [
    "## 2. In the down direction <a id='2_in_the_down_direction'></a>"
   ]
  },
  {
   "cell_type": "markdown",
   "id": "46b138ad",
   "metadata": {},
   "source": [
    "### 2.1 Top of the left rail <a id='2_1_top_of_the_left_rail'></a>"
   ]
  },
  {
   "cell_type": "code",
   "execution_count": 8,
   "id": "b55c6d26",
   "metadata": {},
   "outputs": [
    {
     "data": {
      "text/html": [
       "\n",
       "        <iframe\n",
       "            width=\"975\"\n",
       "            height=\"700\"\n",
       "            src=\"heatmaps\\down_left_top_10.html\"\n",
       "            frameborder=\"0\"\n",
       "            allowfullscreen\n",
       "            \n",
       "        ></iframe>\n",
       "        "
      ],
      "text/plain": [
       "<IPython.lib.display.IFrame at 0x2b3153b9c10>"
      ]
     },
     "execution_count": 8,
     "metadata": {},
     "output_type": "execute_result"
    }
   ],
   "source": [
    "direction = 'Down'\n",
    "element = 'Left Top'\n",
    "subsect_len = 10\n",
    "\n",
    "m = tm.view_heatmap(element, direction, subsect_len, scale=10 ** 3, open_html=False)\n",
    "IFrame(**display_folium_m(m, element, direction, subsect_len))"
   ]
  },
  {
   "cell_type": "markdown",
   "id": "4c91165a",
   "metadata": {},
   "source": [
    "### 2.2 Running edge of the left rail <a id='2_2_running_edge_of_the_left_rail'></a>"
   ]
  },
  {
   "cell_type": "code",
   "execution_count": 9,
   "id": "ad2847fb",
   "metadata": {},
   "outputs": [
    {
     "data": {
      "text/html": [
       "\n",
       "        <iframe\n",
       "            width=\"975\"\n",
       "            height=\"700\"\n",
       "            src=\"heatmaps\\down_left_running_edge_10.html\"\n",
       "            frameborder=\"0\"\n",
       "            allowfullscreen\n",
       "            \n",
       "        ></iframe>\n",
       "        "
      ],
      "text/plain": [
       "<IPython.lib.display.IFrame at 0x2b312c6ae10>"
      ]
     },
     "execution_count": 9,
     "metadata": {},
     "output_type": "execute_result"
    }
   ],
   "source": [
    "direction = 'Down'\n",
    "element = 'Left Running Edge'\n",
    "subsect_len = 10\n",
    "\n",
    "m = tm.view_heatmap(element, direction, subsect_len, scale=10 ** 3, open_html=False)\n",
    "IFrame(**display_folium_m(m, element, direction, subsect_len))"
   ]
  },
  {
   "cell_type": "markdown",
   "id": "b7cbf96a",
   "metadata": {},
   "source": [
    "### 2.3 Top of the rigth rail <a id='2_3_top_of_the_right_rail'></a>"
   ]
  },
  {
   "cell_type": "code",
   "execution_count": 10,
   "id": "096bdab2",
   "metadata": {},
   "outputs": [
    {
     "data": {
      "text/html": [
       "\n",
       "        <iframe\n",
       "            width=\"975\"\n",
       "            height=\"700\"\n",
       "            src=\"heatmaps\\down_right_top_10.html\"\n",
       "            frameborder=\"0\"\n",
       "            allowfullscreen\n",
       "            \n",
       "        ></iframe>\n",
       "        "
      ],
      "text/plain": [
       "<IPython.lib.display.IFrame at 0x2b312d93f50>"
      ]
     },
     "execution_count": 10,
     "metadata": {},
     "output_type": "execute_result"
    }
   ],
   "source": [
    "direction = 'Down'\n",
    "element = 'Right Top'\n",
    "subsect_len = 10\n",
    "\n",
    "m = tm.view_heatmap(element, direction, subsect_len, scale=10 ** 3, open_html=False)\n",
    "IFrame(**display_folium_m(m, element, direction, subsect_len))"
   ]
  },
  {
   "cell_type": "markdown",
   "id": "85d26420",
   "metadata": {},
   "source": [
    "### 2.4 Running edge of the right rail <a id='2_4_running_edge_of_the_right_rail'></a>"
   ]
  },
  {
   "cell_type": "code",
   "execution_count": 11,
   "id": "274c1cb5",
   "metadata": {},
   "outputs": [
    {
     "data": {
      "text/html": [
       "\n",
       "        <iframe\n",
       "            width=\"975\"\n",
       "            height=\"700\"\n",
       "            src=\"heatmaps\\down_right_running_edge_10.html\"\n",
       "            frameborder=\"0\"\n",
       "            allowfullscreen\n",
       "            \n",
       "        ></iframe>\n",
       "        "
      ],
      "text/plain": [
       "<IPython.lib.display.IFrame at 0x2b31751f590>"
      ]
     },
     "execution_count": 11,
     "metadata": {},
     "output_type": "execute_result"
    }
   ],
   "source": [
    "direction = 'Down'\n",
    "element = 'Right Running Edge'\n",
    "subsect_len = 10\n",
    "\n",
    "m = tm.view_heatmap(element, direction, subsect_len, scale=10 ** 3, open_html=False)\n",
    "IFrame(**display_folium_m(m, element, direction, subsect_len))"
   ]
  },
  {
   "cell_type": "markdown",
   "id": "73c421c1",
   "metadata": {},
   "source": [
    "### 2.5 Centre <a id='2_5_centre'></a>"
   ]
  },
  {
   "cell_type": "code",
   "execution_count": 12,
   "id": "41374ad5",
   "metadata": {},
   "outputs": [
    {
     "data": {
      "text/html": [
       "\n",
       "        <iframe\n",
       "            width=\"975\"\n",
       "            height=\"700\"\n",
       "            src=\"heatmaps\\down_centre_10.html\"\n",
       "            frameborder=\"0\"\n",
       "            allowfullscreen\n",
       "            \n",
       "        ></iframe>\n",
       "        "
      ],
      "text/plain": [
       "<IPython.lib.display.IFrame at 0x2b3120df690>"
      ]
     },
     "execution_count": 12,
     "metadata": {},
     "output_type": "execute_result"
    }
   ],
   "source": [
    "direction = 'Down'\n",
    "element = 'Centre'\n",
    "subsect_len = 10\n",
    "\n",
    "m = tm.view_heatmap(element, direction, subsect_len, scale=10 ** 3, open_html=False)\n",
    "IFrame(**display_folium_m(m, element, direction, subsect_len))"
   ]
  },
  {
   "cell_type": "code",
   "execution_count": null,
   "id": "270c4d2b-a052-4742-974b-c61e417ae40e",
   "metadata": {},
   "outputs": [],
   "source": []
  }
 ],
 "metadata": {
  "kernelspec": {
   "display_name": "Python 3 (ipykernel)",
   "language": "python",
   "name": "python3"
  },
  "language_info": {
   "codemirror_mode": {
    "name": "ipython",
    "version": 3
   },
   "file_extension": ".py",
   "mimetype": "text/x-python",
   "name": "python",
   "nbconvert_exporter": "python",
   "pygments_lexer": "ipython3",
   "version": "3.11.9"
  },
  "widgets": {
   "application/vnd.jupyter.widget-state+json": {
    "state": {},
    "version_major": 2,
    "version_minor": 0
   }
  }
 },
 "nbformat": 4,
 "nbformat_minor": 5
}
